{
 "cells": [
  {
   "cell_type": "code",
   "execution_count": 10,
   "metadata": {},
   "outputs": [],
   "source": [
    "        #Pieplot\n"
   ]
  },
  {
   "cell_type": "code",
   "execution_count": 11,
   "metadata": {},
   "outputs": [
    {
     "data": {
      "text/plain": [
       "<BarContainer object of 5 artists>"
      ]
     },
     "execution_count": 11,
     "metadata": {},
     "output_type": "execute_result"
    },
    {
     "data": {
      "image/png": "[encoded data removed]",
      "text/plain": [
       "<Figure size 432x288 with 1 Axes>"
      ]
     },
     "metadata": {
      "needs_background": "light"
     },
     "output_type": "display_data"
    }
   ],
   "source": [
    "import matplotlib.pyplot as plt\n",
    "runs= ['1s','2s','3s','4s','6s']\n",
    "data = [12,4,10,6,9]\n",
    "\n",
    "plt.bar(runs,data) \n"
   ]
  },
  {
   "cell_type": "code",
   "execution_count": 12,
   "metadata": {},
   "outputs": [],
   "source": [
    "import pandas as pd\n",
    "import matplotlib.pyplot as plt\n"
   ]
  },
  {
   "cell_type": "code",
   "execution_count": 13,
   "metadata": {},
   "outputs": [
    {
     "data": {
      "text/html": [
       "<div>\n",
       "<style scoped>\n",
       "    .dataframe tbody tr th:only-of-type {\n",
       "        vertical-align: middle;\n",
       "    }\n",
       "\n",
       "    .dataframe tbody tr th {\n",
       "        vertical-align: top;\n",
       "    }\n",
       "\n",
       "    .dataframe thead th {\n",
       "        text-align: right;\n",
       "    }\n",
       "</style>\n",
       "<table border=\"1\" class=\"dataframe\">\n",
       "  <thead>\n",
       "    <tr style=\"text-align: right;\">\n",
       "      <th></th>\n",
       "      <th>artist_name</th>\n",
       "      <th>track_name</th>\n",
       "      <th>track_id</th>\n",
       "      <th>popularity</th>\n",
       "    </tr>\n",
       "  </thead>\n",
       "  <tbody>\n",
       "    <tr>\n",
       "      <td>0</td>\n",
       "      <td>Juice WRLD</td>\n",
       "      <td>All Girls Are The Same</td>\n",
       "      <td>4VXIryQMWpIdGgYR4TrjT1</td>\n",
       "      <td>83</td>\n",
       "    </tr>\n",
       "    <tr>\n",
       "      <td>1</td>\n",
       "      <td>Schoolgirl Byebye</td>\n",
       "      <td>Year,2015</td>\n",
       "      <td>0UsmyJDsst2xhX1ZiFF3JW</td>\n",
       "      <td>25</td>\n",
       "    </tr>\n",
       "    <tr>\n",
       "      <td>2</td>\n",
       "      <td>Juice WRLD</td>\n",
       "      <td>Lucid Dreams</td>\n",
       "      <td>285pBltuF7vW8TeWk8hdRR</td>\n",
       "      <td>84</td>\n",
       "    </tr>\n",
       "    <tr>\n",
       "      <td>3</td>\n",
       "      <td>Fleetwood Mac</td>\n",
       "      <td>Rhiannon (Will You Ever Win) - 2018 Remaster</td>\n",
       "      <td>4fbwTO3DJ2qryMddov9RbB</td>\n",
       "      <td>49</td>\n",
       "    </tr>\n",
       "    <tr>\n",
       "      <td>4</td>\n",
       "      <td>Joji</td>\n",
       "      <td>SLOW DANCING IN THE DARK</td>\n",
       "      <td>0rKtyWc8bvkriBthvHKY8d</td>\n",
       "      <td>83</td>\n",
       "    </tr>\n",
       "    <tr>\n",
       "      <td>...</td>\n",
       "      <td>...</td>\n",
       "      <td>...</td>\n",
       "      <td>...</td>\n",
       "      <td>...</td>\n",
       "    </tr>\n",
       "    <tr>\n",
       "      <td>3995</td>\n",
       "      <td>Post Malone</td>\n",
       "      <td>Motley Crew</td>\n",
       "      <td>40uMIn2zJLAQhNXghRjBed</td>\n",
       "      <td>85</td>\n",
       "    </tr>\n",
       "    <tr>\n",
       "      <td>3996</td>\n",
       "      <td>Elvis Costello &amp; The Attractions</td>\n",
       "      <td>You Belong To Me - 2021 Remaster</td>\n",
       "      <td>7LjcmjjxyEumIx8AOBVUij</td>\n",
       "      <td>27</td>\n",
       "    </tr>\n",
       "    <tr>\n",
       "      <td>3997</td>\n",
       "      <td>Taylor Swift</td>\n",
       "      <td>Wildest Dreams (Taylor's Version)</td>\n",
       "      <td>1Ov37jtRQ2YNAe8HzfczkL</td>\n",
       "      <td>87</td>\n",
       "    </tr>\n",
       "    <tr>\n",
       "      <td>3998</td>\n",
       "      <td>Dianne Reeves</td>\n",
       "      <td>This Time Of Year</td>\n",
       "      <td>37HtUdjYyfUTUGz7bo2DP4</td>\n",
       "      <td>0</td>\n",
       "    </tr>\n",
       "    <tr>\n",
       "      <td>3999</td>\n",
       "      <td>The Kid LAROI</td>\n",
       "      <td>STAY (with Justin Bieber)</td>\n",
       "      <td>5PjdY0CKGZdEuoNab3yDmX</td>\n",
       "      <td>93</td>\n",
       "    </tr>\n",
       "  </tbody>\n",
       "</table>\n",
       "<p>4000 rows × 4 columns</p>\n",
       "</div>"
      ],
      "text/plain": [
       "                           artist_name  \\\n",
       "0                           Juice WRLD   \n",
       "1                    Schoolgirl Byebye   \n",
       "2                           Juice WRLD   \n",
       "3                        Fleetwood Mac   \n",
       "4                                 Joji   \n",
       "...                                ...   \n",
       "3995                       Post Malone   \n",
       "3996  Elvis Costello & The Attractions   \n",
       "3997                      Taylor Swift   \n",
       "3998                     Dianne Reeves   \n",
       "3999                     The Kid LAROI   \n",
       "\n",
       "                                        track_name                track_id  \\\n",
       "0                           All Girls Are The Same  4VXIryQMWpIdGgYR4TrjT1   \n",
       "1                                        Year,2015  0UsmyJDsst2xhX1ZiFF3JW   \n",
       "2                                     Lucid Dreams  285pBltuF7vW8TeWk8hdRR   \n",
       "3     Rhiannon (Will You Ever Win) - 2018 Remaster  4fbwTO3DJ2qryMddov9RbB   \n",
       "4                         SLOW DANCING IN THE DARK  0rKtyWc8bvkriBthvHKY8d   \n",
       "...                                            ...                     ...   \n",
       "3995                                   Motley Crew  40uMIn2zJLAQhNXghRjBed   \n",
       "3996              You Belong To Me - 2021 Remaster  7LjcmjjxyEumIx8AOBVUij   \n",
       "3997             Wildest Dreams (Taylor's Version)  1Ov37jtRQ2YNAe8HzfczkL   \n",
       "3998                             This Time Of Year  37HtUdjYyfUTUGz7bo2DP4   \n",
       "3999                     STAY (with Justin Bieber)  5PjdY0CKGZdEuoNab3yDmX   \n",
       "\n",
       "      popularity  \n",
       "0             83  \n",
       "1             25  \n",
       "2             84  \n",
       "3             49  \n",
       "4             83  \n",
       "...          ...  \n",
       "3995          85  \n",
       "3996          27  \n",
       "3997          87  \n",
       "3998           0  \n",
       "3999          93  \n",
       "\n",
       "[4000 rows x 4 columns]"
      ]
     },
     "execution_count": 13,
     "metadata": {},
     "output_type": "execute_result"
    }
   ],
   "source": [
    "data = pd.read_csv('spotify_data.csv')\n",
    "data"
   ]
  },
  {
   "cell_type": "code",
   "execution_count": 14,
   "metadata": {},
   "outputs": [
    {
     "data": {
      "image/png": "[encoded data removed]",
      "text/plain": [
       "<Figure size 432x288 with 1 Axes>"
      ]
     },
     "metadata": {
      "needs_background": "light"
     },
     "output_type": "display_data"
    }
   ],
   "source": [
    "plt.plot(data.popularity.head(12).index, data.popularity.head(12), 'k', linestyle = ':', marker = '+')\n",
    "plt.xticks(ticks = range(13), labels = ['p1','p2','p3','p4','p5','p6','p7','p8','p9','p10','p11','p12'])\n",
    "plt.show()"
   ]
  },
  {
   "cell_type": "code",
   "execution_count": 15,
   "metadata": {},
   "outputs": [
    {
     "data": {
      "text/plain": [
       "<matplotlib.collections.PathCollection at 0x169166d7b88>"
      ]
     },
     "execution_count": 15,
     "metadata": {},
     "output_type": "execute_result"
    },
    {
     "data": {
      "image/png": "[encoded data removed]",
      "text/plain": [
       "<Figure size 432x288 with 1 Axes>"
      ]
     },
     "metadata": {
      "needs_background": "light"
     },
     "output_type": "display_data"
    }
   ],
   "source": [
    "plt.scatter(data.popularity.head(12).index, data.popularity.head(12), color = 'r')"
   ]
  },
  {
   "cell_type": "code",
   "execution_count": 16,
   "metadata": {},
   "outputs": [
    {
     "data": {
      "text/plain": [
       "<matplotlib.legend.Legend at 0x169167371c8>"
      ]
     },
     "execution_count": 16,
     "metadata": {},
     "output_type": "execute_result"
    },
    {
     "data": {
      "image/png": "[encoded data removed]",
      "text/plain": [
       "<Figure size 432x288 with 1 Axes>"
      ]
     },
     "metadata": {
      "needs_background": "light"
     },
     "output_type": "display_data"
    }
   ],
   "source": [
    "plt.hist(data.popularity.head(12), color = 'r',stacked = True,histtype = 'step', align = 'mid', log = True, label = 'test')\n",
    "plt.xlabel('Popularity')\n",
    "plt.ylabel('Count')\n",
    "plt.title('Popularity Vs Count')\n",
    "plt.legend()"
   ]
  },
  {
   "cell_type": "code",
   "execution_count": 17,
   "metadata": {},
   "outputs": [
    {
     "data": {
      "text/plain": [
       "8           LilBaby\n",
       "32         MeekMill\n",
       "48      MetroBoomin\n",
       "73       ChrisBrown\n",
       "77       PostMalone\n",
       "           ...     \n",
       "3877     PostMalone\n",
       "3893       LilTecca\n",
       "3911     DonToliver\n",
       "3925     BeachBunny\n",
       "3947        SoFaygo\n",
       "Name: artist_name, Length: 135, dtype: object"
      ]
     },
     "execution_count": 17,
     "metadata": {},
     "output_type": "execute_result"
    }
   ],
   "source": [
    "raw = data.query('popularity==80')\n",
    "raw.artist_name.str.replace(' ', '')"
   ]
  },
  {
   "cell_type": "code",
   "execution_count": 18,
   "metadata": {},
   "outputs": [
    {
     "data": {
      "image/png": "[encoded data removed]",
      "text/plain": [
       "<Figure size 432x288 with 1 Axes>"
      ]
     },
     "metadata": {},
     "output_type": "display_data"
    }
   ],
   "source": [
    "plt.pie(data.popularity.head(12),autopct = \"%.f%%\",pctdistance = 0.7, labels = raw.artist_name.head(12),explode = (0.3,0,0,0,0,0,0,0,0,0,0,0),counterclock = True)\n",
    "plt.show()"
   ]
  },
  {
   "cell_type": "code",
   "execution_count": null,
   "metadata": {},
   "outputs": [],
   "source": [
    "plt.boxplot()"
   ]
  },
  {
   "cell_type": "code",
   "execution_count": null,
   "metadata": {},
   "outputs": [],
   "source": []
  }
 ],
 "metadata": {
  "kernelspec": {
   "display_name": "Python 3",
   "language": "python",
   "name": "python3"
  },
  "language_info": {
   "codemirror_mode": {
    "name": "ipython",
    "version": 3
   },
   "file_extension": ".py",
   "mimetype": "text/x-python",
   "name": "python",
   "nbconvert_exporter": "python",
   "pygments_lexer": "ipython3",
   "version": "3.7.4"
  }
 },
 "nbformat": 4,
 "nbformat_minor": 2
}
